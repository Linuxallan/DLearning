{
 "cells": [
  {
   "cell_type": "markdown",
   "id": "1b03c08d",
   "metadata": {},
   "source": [
    "Con 'Esc' se deja de selecionar las celdas, y luego con 'j' se navega hacia abajo entre las celdas y con 'k'hacia arriba, con 'enter' se selecciona una celda."
   ]
  },
  {
   "cell_type": "markdown",
   "id": "b8f31736",
   "metadata": {},
   "source": [
    "Con 'dd' se elimina la celda actual seleccionada"
   ]
  },
  {
   "cell_type": "markdown",
   "id": "e4776fdb",
   "metadata": {},
   "source": [
    "Con 'a' se crea una celda arriba de la celda seleccionada actualmente."
   ]
  },
  {
   "cell_type": "markdown",
   "id": "80161dbf",
   "metadata": {},
   "source": [
    "Con 'b' se crea una cenda abajo de la celda actualmente seleccionada."
   ]
  },
  {
   "cell_type": "markdown",
   "id": "4d0246f1",
   "metadata": {},
   "source": [
    "Con 'shif' + (j o k) voy seleccionando un conjunto de celdas (hacia arriba o hacia abajo)"
   ]
  },
  {
   "cell_type": "markdown",
   "id": "fc36a6f8",
   "metadata": {},
   "source": [
    "Con 'shif' + 'enter' bajo de celda sin crear una nueva"
   ]
  },
  {
   "cell_type": "markdown",
   "id": "d785849e",
   "metadata": {},
   "source": [
    "Con 'shif' + 'alt' bajo una celda creando una nueva"
   ]
  }
 ],
 "metadata": {
  "kernelspec": {
   "display_name": "Python 3.8.2 64-bit",
   "language": "python",
   "name": "python3"
  },
  "language_info": {
   "codemirror_mode": {
    "name": "ipython",
    "version": 3
   },
   "file_extension": ".py",
   "mimetype": "text/x-python",
   "name": "python",
   "nbconvert_exporter": "python",
   "pygments_lexer": "ipython3",
   "version": "3.8.2"
  },
  "vscode": {
   "interpreter": {
    "hash": "31f2aee4e71d21fbe5cf8b01ff0e069b9275f58929596ceb00d14d90e3e16cd6"
   }
  }
 },
 "nbformat": 4,
 "nbformat_minor": 5
}
