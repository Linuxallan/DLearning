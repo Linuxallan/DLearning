{
  "cells": [
    {
      "cell_type": "markdown",
      "metadata": {
        "id": "MurPEio8t8sw"
      },
      "source": [
        "# Introducción a Keras: Implementando una RNA para clasificación"
      ]
    },
    {
      "cell_type": "markdown",
      "metadata": {
        "id": "-9J6iLtbt8s0"
      },
      "source": [
        "## Pasos en la implementación de una Red Neuronal Artificial en Keras"
      ]
    },
    {
      "cell_type": "markdown",
      "metadata": {
        "id": "mXcoWR6At8s1"
      },
      "source": [
        "1. Define tu conjunto de datos de entrenamiento: vectores de entrada y de salida\n",
        "2. Define la arquitectura de la Red Neuronal Artificial\n",
        "3. Configura el proceso de aprendizaje mediante la seleccion de una funcion de error, una funcion de optimizacion y diferentes metricas para monitorizar el proceso\n",
        "4. Entrena la RNA con tu conjunto de datos de entrenamiento mediante el uso del metodo **_fit()_**"
      ]
    },
    {
      "cell_type": "markdown",
      "metadata": {
        "id": "st9mQlfZt8s2"
      },
      "source": [
        "## 0. Imports"
      ]
    },
    {
      "cell_type": "markdown",
      "metadata": {
        "id": "cQOzm5qGt8s3"
      },
      "source": [
        "Lo primero que debe hacerse es importar las librerías específicas necesarias para la implementación de la Red Neuronal Artificial. En las nuevas versiones de Tensorflow y Keras, la recomendación es utilizar keras a través del framework Tensorflow"
      ]
    },
    {
      "cell_type": "code",
      "execution_count": 2,
      "metadata": {
        "colab": {
          "base_uri": "https://localhost:8080/",
          "height": 36
        },
        "id": "EUu5ryoft8s4",
        "outputId": "ef735af1-d0de-4222-a006-6a8063ede783"
      },
      "outputs": [
        {
          "output_type": "execute_result",
          "data": {
            "text/plain": [
              "'2.8.2'"
            ],
            "application/vnd.google.colaboratory.intrinsic+json": {
              "type": "string"
            }
          },
          "metadata": {},
          "execution_count": 2
        }
      ],
      "source": [
        "import tensorflow as tf\n",
        "\n",
        "tf.__version__"
      ]
    },
    {
      "cell_type": "code",
      "execution_count": 3,
      "metadata": {
        "colab": {
          "base_uri": "https://localhost:8080/",
          "height": 36
        },
        "id": "3Wjzsdcet8s5",
        "outputId": "cd9ee26c-eac2-4b71-93a7-d5db87412722"
      },
      "outputs": [
        {
          "output_type": "execute_result",
          "data": {
            "text/plain": [
              "'2.8.0'"
            ],
            "application/vnd.google.colaboratory.intrinsic+json": {
              "type": "string"
            }
          },
          "metadata": {},
          "execution_count": 3
        }
      ],
      "source": [
        "from tensorflow import keras\n",
        "\n",
        "keras.__version__"
      ]
    },
    {
      "cell_type": "markdown",
      "metadata": {
        "id": "CD2iM7-Bt8s7"
      },
      "source": [
        "## 1. Definicion del conjunto de datos de entrenamiento"
      ]
    },
    {
      "cell_type": "markdown",
      "metadata": {
        "id": "BFsHyApft8s8"
      },
      "source": [
        "### 1.1. Importando el conjunto de datos"
      ]
    },
    {
      "cell_type": "markdown",
      "metadata": {
        "id": "4QJrOwdyt8s-"
      },
      "source": [
        "Keras nos proporciona algunos conjuntos de datos de prueba que podemos utilizar para la realización de pruebas."
      ]
    },
    {
      "cell_type": "code",
      "execution_count": 4,
      "metadata": {
        "id": "Qype5fxEt8s_"
      },
      "outputs": [],
      "source": [
        "from tensorflow.keras import datasets"
      ]
    },
    {
      "cell_type": "markdown",
      "metadata": {
        "id": "Zvj7vu_nt8tA"
      },
      "source": [
        "Podemos utilizar tab sobre \"datasets\" para visualizar los conjuntos de datos disponibles. En este caso vamos a importar el conjunto de datos MNIST."
      ]
    },
    {
      "cell_type": "code",
      "execution_count": 5,
      "metadata": {
        "id": "tfGVut2dt8tB"
      },
      "outputs": [],
      "source": [
        "mnist = datasets.mnist"
      ]
    },
    {
      "cell_type": "markdown",
      "metadata": {
        "id": "Dwksh8pht8tC"
      },
      "source": [
        "Podemos utilizar shift + tab sobre \"load_data()\" para visualizar el input y output del método."
      ]
    },
    {
      "cell_type": "code",
      "execution_count": 6,
      "metadata": {
        "colab": {
          "base_uri": "https://localhost:8080/"
        },
        "id": "xbt1sZfet8tD",
        "outputId": "62a4eae9-5337-48ee-b191-898873a3bf99"
      },
      "outputs": [
        {
          "output_type": "stream",
          "name": "stdout",
          "text": [
            "Downloading data from https://storage.googleapis.com/tensorflow/tf-keras-datasets/mnist.npz\n",
            "11493376/11490434 [==============================] - 0s 0us/step\n",
            "11501568/11490434 [==============================] - 0s 0us/step\n"
          ]
        }
      ],
      "source": [
        "(X_train, y_train), (X_test, y_test) = mnist.load_data()"
      ]
    },
    {
      "cell_type": "markdown",
      "metadata": {
        "id": "DyvLrUGFt8tD"
      },
      "source": [
        "El conjunto de datos importado esta formado por un total de 70000 imágenes divididas en dos conjuntos de datos, el conjunto de datos de entrenamiento X_train (60000 imágenes) y el conjunto de datos de pruebas (10000 imágenes)."
      ]
    },
    {
      "cell_type": "code",
      "execution_count": 7,
      "metadata": {
        "colab": {
          "base_uri": "https://localhost:8080/"
        },
        "id": "fy6L0ASDt8tE",
        "outputId": "00a984db-69ac-4149-8b1a-510c06630dd6"
      },
      "outputs": [
        {
          "output_type": "execute_result",
          "data": {
            "text/plain": [
              "(60000, 28, 28)"
            ]
          },
          "metadata": {},
          "execution_count": 7
        }
      ],
      "source": [
        "X_train.shape"
      ]
    },
    {
      "cell_type": "code",
      "execution_count": 8,
      "metadata": {
        "colab": {
          "base_uri": "https://localhost:8080/"
        },
        "id": "bBtaDZWLt8tG",
        "outputId": "e4a91c71-3325-4bd6-fd90-f6dcfd5d9db8"
      },
      "outputs": [
        {
          "output_type": "execute_result",
          "data": {
            "text/plain": [
              "(10000, 28, 28)"
            ]
          },
          "metadata": {},
          "execution_count": 8
        }
      ],
      "source": [
        "X_test.shape"
      ]
    },
    {
      "cell_type": "markdown",
      "metadata": {
        "id": "1LLIErflt8tH"
      },
      "source": [
        "Las etiquetas se corresponden con el valor numérico que representa la imágen."
      ]
    },
    {
      "cell_type": "code",
      "execution_count": 9,
      "metadata": {
        "colab": {
          "base_uri": "https://localhost:8080/"
        },
        "id": "rwOHQQdUt8tI",
        "outputId": "6fa525c3-8629-4d61-a966-43b764caa4b4"
      },
      "outputs": [
        {
          "output_type": "execute_result",
          "data": {
            "text/plain": [
              "(60000,)"
            ]
          },
          "metadata": {},
          "execution_count": 9
        }
      ],
      "source": [
        "y_train.shape"
      ]
    },
    {
      "cell_type": "code",
      "execution_count": 10,
      "metadata": {
        "colab": {
          "base_uri": "https://localhost:8080/"
        },
        "id": "x09kVMi1t8tJ",
        "outputId": "f60b10c9-9ee7-4a5d-df9c-d7ff23aa0e4b"
      },
      "outputs": [
        {
          "output_type": "execute_result",
          "data": {
            "text/plain": [
              "5"
            ]
          },
          "metadata": {},
          "execution_count": 10
        }
      ],
      "source": [
        "y_train[0]"
      ]
    },
    {
      "cell_type": "markdown",
      "metadata": {
        "id": "8eLNYhtnt8tK"
      },
      "source": [
        "### 1.2. Visualizando el conjunto de datos"
      ]
    },
    {
      "cell_type": "code",
      "execution_count": 11,
      "metadata": {
        "id": "Lu1z2aZYt8tL"
      },
      "outputs": [],
      "source": [
        "import numpy as np\n",
        "import matplotlib.pyplot as plt"
      ]
    },
    {
      "cell_type": "code",
      "execution_count": 12,
      "metadata": {
        "colab": {
          "base_uri": "https://localhost:8080/",
          "height": 173
        },
        "id": "-SxpUgOLt8tM",
        "outputId": "f36ffcce-6c0f-4428-b5c4-97015e16865a"
      },
      "outputs": [
        {
          "output_type": "display_data",
          "data": {
            "text/plain": [
              "<Figure size 1440x288 with 8 Axes>"
            ],
            "image/png": "[encoded data removed]"
          },
          "metadata": {
            "needs_background": "light"
          }
        }
      ],
      "source": [
        "# Visualizacion de los primeros 8 ejemplos de nuestro conjunto de datos de entrenamiento\n",
        "plt.figure(figsize=(20, 4))\n",
        "\n",
        "for index, digit in zip(range(1, 9), X_train[:8]):\n",
        "    plt.subplot(1, 8, index)\n",
        "    plt.imshow(np.reshape(digit, (28,28)), cmap=plt.cm.gray)\n",
        "    plt.title('Ejemplo: ' + str(index))\n",
        "plt.show()"
      ]
    },
    {
      "cell_type": "markdown",
      "metadata": {
        "id": "R4P_78a1t8tN"
      },
      "source": [
        "### 1.3. División del conjunto de datos"
      ]
    },
    {
      "cell_type": "markdown",
      "metadata": {
        "id": "yGWDifCJt8tN"
      },
      "source": [
        "Para la realización de una serie de pruebas adicionales vamos a dividir el conjunto de datos de prueba en dos subconjuntos, el conjunto de validación (X_val) y el conjunto de pruebas (X_test)"
      ]
    },
    {
      "cell_type": "code",
      "execution_count": 13,
      "metadata": {
        "id": "lmOT9NGht8tN"
      },
      "outputs": [],
      "source": [
        "from sklearn.model_selection import train_test_split\n",
        "\n",
        "X_test, X_val, y_test, y_val = train_test_split(X_test, y_test, test_size=0.5)"
      ]
    },
    {
      "cell_type": "code",
      "execution_count": 14,
      "metadata": {
        "colab": {
          "base_uri": "https://localhost:8080/"
        },
        "id": "ArFmW0h9t8tO",
        "outputId": "77798b3f-2201-4686-9edc-e5ae67c25242"
      },
      "outputs": [
        {
          "output_type": "execute_result",
          "data": {
            "text/plain": [
              "(5000, 28, 28)"
            ]
          },
          "metadata": {},
          "execution_count": 14
        }
      ],
      "source": [
        "X_test.shape"
      ]
    },
    {
      "cell_type": "code",
      "execution_count": 15,
      "metadata": {
        "colab": {
          "base_uri": "https://localhost:8080/"
        },
        "id": "7ihQgseTt8tO",
        "outputId": "3f5496ba-d706-4faa-dafb-7b47c96a9d7f"
      },
      "outputs": [
        {
          "output_type": "execute_result",
          "data": {
            "text/plain": [
              "(5000, 28, 28)"
            ]
          },
          "metadata": {},
          "execution_count": 15
        }
      ],
      "source": [
        "X_val.shape"
      ]
    },
    {
      "cell_type": "markdown",
      "metadata": {
        "id": "iX38QeTKt8tP"
      },
      "source": [
        "## 2. Definicion de la arquitectura de la Red Neuronal Artificial"
      ]
    },
    {
      "cell_type": "markdown",
      "metadata": {
        "id": "I3IFRY7Qt8tP"
      },
      "source": [
        "Tal y como podéis observar en la definición de la Red Neuronal Artificial que se muestra a continuación, el bloque básico que utiliza Keras es la **layer** o capa. La red Neuronal estará formada por diferentes capas que a su vez contendrán un conjunto de neuronas que se corresponden con el primer parámetro que se le proporciona."
      ]
    },
    {
      "cell_type": "code",
      "execution_count": 16,
      "metadata": {
        "id": "841Pkg1ft8tQ"
      },
      "outputs": [],
      "source": [
        "from tensorflow.keras import models\n",
        "from tensorflow.keras import layers"
      ]
    },
    {
      "cell_type": "markdown",
      "metadata": {
        "id": "kay7kyfet8tQ"
      },
      "source": [
        "Definimos una Red Neuronal Artificial formada por 3 capas:\n",
        "* La primera capa estará formada por 300 neuronas\n",
        "* La segunda capa estará formada por 100 neuronas\n",
        "* La última capa estará formada por 10 neuronas"
      ]
    },
    {
      "cell_type": "code",
      "execution_count": 17,
      "metadata": {
        "id": "8oXdq0SSt8tS"
      },
      "outputs": [],
      "source": [
        "network = models.Sequential()\n",
        "\n",
        "# input shape: le decimos que nuestras caracteristicas de entrada son de largo 28x28, asi sabe \n",
        "# cuantas 'input features' esperar recibir\n",
        "network.add(layers.Dense(300, activation='relu', input_shape=(28*28,))) \n",
        "network.add(layers.Dense(100, activation='relu'))\n",
        "network.add(layers.Dense(10, activation='softmax'))"
      ]
    },
    {
      "cell_type": "markdown",
      "metadata": {
        "id": "SlKXUrPGt8tS"
      },
      "source": [
        "Una vez hemos definido la arquitectura de la Red Neuronal Artificial podemos visualizarla junto con el número total de parámetros utilizando el método *summary()*"
      ]
    },
    {
      "cell_type": "code",
      "execution_count": 18,
      "metadata": {
        "colab": {
          "base_uri": "https://localhost:8080/"
        },
        "id": "1VSeGPjat8tS",
        "outputId": "478824e4-6252-42df-de78-dfe0b60c9efe"
      },
      "outputs": [
        {
          "output_type": "stream",
          "name": "stdout",
          "text": [
            "Model: \"sequential\"\n",
            "_________________________________________________________________\n",
            " Layer (type)                Output Shape              Param #   \n",
            "=================================================================\n",
            " dense (Dense)               (None, 300)               235500    \n",
            "                                                                 \n",
            " dense_1 (Dense)             (None, 100)               30100     \n",
            "                                                                 \n",
            " dense_2 (Dense)             (None, 10)                1010      \n",
            "                                                                 \n",
            "=================================================================\n",
            "Total params: 266,610\n",
            "Trainable params: 266,610\n",
            "Non-trainable params: 0\n",
            "_________________________________________________________________\n"
          ]
        }
      ],
      "source": [
        "network.summary()"
      ]
    },
    {
      "cell_type": "markdown",
      "metadata": {
        "id": "8H_qvfCGt8tU"
      },
      "source": [
        "### 2.2. Acceso a los elementos definidos de la RNA"
      ]
    },
    {
      "cell_type": "code",
      "execution_count": 19,
      "metadata": {
        "colab": {
          "base_uri": "https://localhost:8080/"
        },
        "id": "0FwLVekit8tU",
        "outputId": "f7700422-f31f-46b4-89f1-97c4562deffa"
      },
      "outputs": [
        {
          "output_type": "execute_result",
          "data": {
            "text/plain": [
              "[<keras.layers.core.dense.Dense at 0x7fe8dc88a9d0>,\n",
              " <keras.layers.core.dense.Dense at 0x7fe8dd6db6d0>,\n",
              " <keras.layers.core.dense.Dense at 0x7fe8dca62550>]"
            ]
          },
          "metadata": {},
          "execution_count": 19
        }
      ],
      "source": [
        "network.layers"
      ]
    },
    {
      "cell_type": "markdown",
      "metadata": {
        "id": "pimaan4zt8tV"
      },
      "source": [
        "En este caso vamos a acceder a los parámetros del modelo que componen las neuronas de la primera hidden layer"
      ]
    },
    {
      "cell_type": "code",
      "execution_count": 20,
      "metadata": {
        "id": "t_yfLI3jt8tV"
      },
      "outputs": [],
      "source": [
        "hidden1 = network.layers[1]"
      ]
    },
    {
      "cell_type": "code",
      "execution_count": 21,
      "metadata": {
        "id": "nZl5B4Mtt8tW"
      },
      "outputs": [],
      "source": [
        "weights, biases = hidden1.get_weights()"
      ]
    },
    {
      "cell_type": "markdown",
      "metadata": {
        "id": "NA36lgZQt8tW"
      },
      "source": [
        "Como puede observarse en las siguientes celdas, Keras automáticamente inicializa el valor de los parámetros de manera aleatoria y los bias term con el valor 0"
      ]
    },
    {
      "cell_type": "code",
      "execution_count": 22,
      "metadata": {
        "colab": {
          "base_uri": "https://localhost:8080/"
        },
        "id": "4iOQsqQ-t8tX",
        "outputId": "8ad67df8-f768-4f76-9617-2f8dadd68a3c"
      },
      "outputs": [
        {
          "output_type": "execute_result",
          "data": {
            "text/plain": [
              "array([[ 0.09849662,  0.03220297, -0.08444241, ..., -0.06260148,\n",
              "         0.0920473 , -0.04918974],\n",
              "       [ 0.10216475, -0.1054671 ,  0.10078873, ..., -0.02809596,\n",
              "         0.04987288,  0.08349926],\n",
              "       [ 0.08977433,  0.04553536,  0.02354265, ...,  0.07274725,\n",
              "        -0.11568503,  0.06798194],\n",
              "       ...,\n",
              "       [ 0.09838798,  0.07693917,  0.02743039, ...,  0.00547753,\n",
              "        -0.06544963,  0.1068423 ],\n",
              "       [ 0.00033657, -0.00144581,  0.11560274, ..., -0.00422489,\n",
              "         0.05748773, -0.09567969],\n",
              "       [-0.01726619, -0.01318938,  0.0850079 , ..., -0.10160102,\n",
              "         0.01819808,  0.09161564]], dtype=float32)"
            ]
          },
          "metadata": {},
          "execution_count": 22
        }
      ],
      "source": [
        "weights"
      ]
    },
    {
      "cell_type": "code",
      "execution_count": 23,
      "metadata": {
        "colab": {
          "base_uri": "https://localhost:8080/"
        },
        "id": "Hff475L5t8tY",
        "outputId": "01f3195e-2a78-468b-d694-fb98afcc320a"
      },
      "outputs": [
        {
          "output_type": "execute_result",
          "data": {
            "text/plain": [
              "array([0., 0., 0., 0., 0., 0., 0., 0., 0., 0., 0., 0., 0., 0., 0., 0., 0.,\n",
              "       0., 0., 0., 0., 0., 0., 0., 0., 0., 0., 0., 0., 0., 0., 0., 0., 0.,\n",
              "       0., 0., 0., 0., 0., 0., 0., 0., 0., 0., 0., 0., 0., 0., 0., 0., 0.,\n",
              "       0., 0., 0., 0., 0., 0., 0., 0., 0., 0., 0., 0., 0., 0., 0., 0., 0.,\n",
              "       0., 0., 0., 0., 0., 0., 0., 0., 0., 0., 0., 0., 0., 0., 0., 0., 0.,\n",
              "       0., 0., 0., 0., 0., 0., 0., 0., 0., 0., 0., 0., 0., 0., 0.],\n",
              "      dtype=float32)"
            ]
          },
          "metadata": {},
          "execution_count": 23
        }
      ],
      "source": [
        "biases"
      ]
    },
    {
      "cell_type": "markdown",
      "metadata": {
        "id": "Tq5d6hadt8tY"
      },
      "source": [
        "## 3. Configuracion de la Red Neuronal Artificial"
      ]
    },
    {
      "cell_type": "markdown",
      "metadata": {
        "id": "o9wnSRdFt8tZ"
      },
      "source": [
        "Para que la Red Neuronal Artificial funcione adecuadamente va a requerir tres componentes adicionales que se seleccionan durante el proceso de compilación:\n",
        "1. **La función de error**: Se utiliza en el proceso de optimización de los parámetros del modelo para medir el error  producido al modificar el valor de los parámetros del modelo en una dirección determinada\n",
        "2. **La función de optimización**: Se corresponde con la función encargada de actualizar el valor de los parámetros del modelo en una dirección determinada en función del resultado de la función de error\n",
        "3. **Metricas para monitorizar el proceso de entrenamiento**: Es interesante utilizar un conjunto de métricas durante el proceso de entrenamiento de la Red Neuronal Artificial de manera que podamos saber en cada iteración si el valor de los parámetros del modelo es adecuado o se están produciendo problemas como *overfitting*"
      ]
    },
    {
      "cell_type": "code",
      "execution_count": 24,
      "metadata": {
        "id": "H6RU38P5t8tZ"
      },
      "outputs": [],
      "source": [
        "network.compile(loss='categorical_crossentropy',\n",
        "                optimizer='sgd',\n",
        "                metrics=['accuracy', 'Precision'])"
      ]
    },
    {
      "cell_type": "markdown",
      "metadata": {
        "id": "w-i08rnRt8ta"
      },
      "source": [
        "## 4. Preparacion del conjunto de datos"
      ]
    },
    {
      "cell_type": "markdown",
      "metadata": {
        "id": "P8C0EFDlt8tb"
      },
      "source": [
        "Debido a la forma en la que hemos definido la arquitectura de nuestra Red Neuronal Artificial y los parámetros de compilación, vamos a requerir realizar algunas transformaciones sobre nuestro conjunto de datos"
      ]
    },
    {
      "cell_type": "markdown",
      "metadata": {
        "id": "YyYANcTht8tb"
      },
      "source": [
        "### 4.1. Preparación de las características de entrada"
      ]
    },
    {
      "cell_type": "code",
      "execution_count": 25,
      "metadata": {
        "id": "Srz2thKut8tc"
      },
      "outputs": [],
      "source": [
        "X_train_prep = X_train.reshape((60000, 28*28))\n",
        "X_train_prep = X_train_prep.astype('float32') / 255\n",
        "\n",
        "X_test_prep = X_test.reshape((5000, 28*28))\n",
        "X_test_prep = X_test_prep.astype('float32') / 255\n",
        "\n",
        "X_val_prep = X_val.reshape((5000, 28*28))\n",
        "X_val_prep = X_val_prep.astype('float32') / 255"
      ]
    },
    {
      "cell_type": "code",
      "execution_count": 26,
      "metadata": {
        "colab": {
          "base_uri": "https://localhost:8080/"
        },
        "id": "J13HcIFrt8td",
        "outputId": "917aac38-b269-4392-9219-8c02b0040855"
      },
      "outputs": [
        {
          "output_type": "execute_result",
          "data": {
            "text/plain": [
              "(60000, 28, 28)"
            ]
          },
          "metadata": {},
          "execution_count": 26
        }
      ],
      "source": [
        "X_train.shape"
      ]
    },
    {
      "cell_type": "code",
      "execution_count": 27,
      "metadata": {
        "colab": {
          "base_uri": "https://localhost:8080/"
        },
        "id": "3BVJoVGVt8td",
        "outputId": "64b10604-d8bb-4eb2-b340-6056d01d73a2"
      },
      "outputs": [
        {
          "output_type": "execute_result",
          "data": {
            "text/plain": [
              "(60000, 784)"
            ]
          },
          "metadata": {},
          "execution_count": 27
        }
      ],
      "source": [
        "X_train_prep.shape"
      ]
    },
    {
      "cell_type": "markdown",
      "metadata": {
        "id": "1sZTInjft8te"
      },
      "source": [
        "### 4.2. Preparación de las características de salida (etiquetas)"
      ]
    },
    {
      "cell_type": "code",
      "execution_count": 28,
      "metadata": {
        "id": "AYWXmHZgt8tf"
      },
      "outputs": [],
      "source": [
        "from tensorflow.keras.utils import to_categorical\n",
        "\n",
        "y_train_prep = to_categorical(y_train)\n",
        "y_test_prep = to_categorical(y_test)\n",
        "y_val_prep = to_categorical(y_val)"
      ]
    },
    {
      "cell_type": "code",
      "execution_count": 29,
      "metadata": {
        "colab": {
          "base_uri": "https://localhost:8080/"
        },
        "id": "JC-BUWa3t8tg",
        "outputId": "67948f2b-c8ed-40c0-b676-d435e4508bc7"
      },
      "outputs": [
        {
          "output_type": "execute_result",
          "data": {
            "text/plain": [
              "array([5, 0, 4, ..., 5, 6, 8], dtype=uint8)"
            ]
          },
          "metadata": {},
          "execution_count": 29
        }
      ],
      "source": [
        "y_train"
      ]
    },
    {
      "cell_type": "code",
      "execution_count": 30,
      "metadata": {
        "colab": {
          "base_uri": "https://localhost:8080/"
        },
        "id": "Gqgmryr9t8th",
        "outputId": "63e3239c-8176-4b41-fc42-bb870b966522"
      },
      "outputs": [
        {
          "output_type": "execute_result",
          "data": {
            "text/plain": [
              "array([[0., 0., 0., ..., 0., 0., 0.],\n",
              "       [1., 0., 0., ..., 0., 0., 0.],\n",
              "       [0., 0., 0., ..., 0., 0., 0.],\n",
              "       ...,\n",
              "       [0., 0., 0., ..., 0., 0., 0.],\n",
              "       [0., 0., 0., ..., 0., 0., 0.],\n",
              "       [0., 0., 0., ..., 0., 1., 0.]], dtype=float32)"
            ]
          },
          "metadata": {},
          "execution_count": 30
        }
      ],
      "source": [
        "y_train_prep"
      ]
    },
    {
      "cell_type": "markdown",
      "metadata": {
        "id": "hgcwLoa5t8ti"
      },
      "source": [
        "## 5. Entrenamiento de la Red Neuronal Artificial"
      ]
    },
    {
      "cell_type": "markdown",
      "metadata": {
        "id": "eztqE334t8ti"
      },
      "source": [
        "En este punto ya estamos listos para entrenar nuestra Red Neuronal Artificial invocando el método *fit()*. Una de las capacidades que nos proporciona Keras es la de integrar el proceso de validación en el propio proceso de entrenamiento, para ello, junto con el subconjunto de datos de entrenamiento, debemos proporcionarle a este método el subconjunto de validación."
      ]
    },
    {
      "cell_type": "code",
      "execution_count": 33,
      "metadata": {
        "colab": {
          "base_uri": "https://localhost:8080/"
        },
        "id": "v6lP89Fxt8tj",
        "outputId": "0a680567-d2d9-4fa6-9614-68e7b2377dec"
      },
      "outputs": [
        {
          "output_type": "stream",
          "name": "stdout",
          "text": [
            "Epoch 1/10\n",
            "1875/1875 [==============================] - 6s 3ms/step - loss: 0.0927 - accuracy: 0.9739 - precision: 0.9796 - val_loss: 0.1021 - val_accuracy: 0.9690 - val_precision: 0.9739\n",
            "Epoch 2/10\n",
            "1875/1875 [==============================] - 6s 3ms/step - loss: 0.0855 - accuracy: 0.9763 - precision: 0.9815 - val_loss: 0.0959 - val_accuracy: 0.9700 - val_precision: 0.9743\n",
            "Epoch 3/10\n",
            "1875/1875 [==============================] - 6s 3ms/step - loss: 0.0794 - accuracy: 0.9773 - precision: 0.9822 - val_loss: 0.0948 - val_accuracy: 0.9706 - val_precision: 0.9758\n",
            "Epoch 4/10\n",
            "1875/1875 [==============================] - 6s 3ms/step - loss: 0.0736 - accuracy: 0.9791 - precision: 0.9834 - val_loss: 0.0902 - val_accuracy: 0.9710 - val_precision: 0.9770\n",
            "Epoch 5/10\n",
            "1875/1875 [==============================] - 6s 3ms/step - loss: 0.0684 - accuracy: 0.9805 - precision: 0.9850 - val_loss: 0.0860 - val_accuracy: 0.9740 - val_precision: 0.9786\n",
            "Epoch 6/10\n",
            "1875/1875 [==============================] - 6s 3ms/step - loss: 0.0642 - accuracy: 0.9819 - precision: 0.9863 - val_loss: 0.0832 - val_accuracy: 0.9724 - val_precision: 0.9778\n",
            "Epoch 7/10\n",
            "1875/1875 [==============================] - 6s 3ms/step - loss: 0.0597 - accuracy: 0.9833 - precision: 0.9871 - val_loss: 0.0795 - val_accuracy: 0.9750 - val_precision: 0.9790\n",
            "Epoch 8/10\n",
            "1875/1875 [==============================] - 7s 4ms/step - loss: 0.0563 - accuracy: 0.9845 - precision: 0.9879 - val_loss: 0.0786 - val_accuracy: 0.9750 - val_precision: 0.9800\n",
            "Epoch 9/10\n",
            "1875/1875 [==============================] - 6s 3ms/step - loss: 0.0529 - accuracy: 0.9856 - precision: 0.9887 - val_loss: 0.0750 - val_accuracy: 0.9758 - val_precision: 0.9804\n",
            "Epoch 10/10\n",
            "1875/1875 [==============================] - 6s 3ms/step - loss: 0.0495 - accuracy: 0.9870 - precision: 0.9898 - val_loss: 0.0781 - val_accuracy: 0.9756 - val_precision: 0.9796\n"
          ]
        }
      ],
      "source": [
        "history = network.fit(X_train_prep, \n",
        "                      y_train_prep, \n",
        "                      epochs=10, \n",
        "                      validation_data=(X_val_prep, y_val_prep))"
      ]
    },
    {
      "cell_type": "markdown",
      "metadata": {
        "id": "Lh5dzvLqt8tj"
      },
      "source": [
        "En la variable ***history*** se almacenan varios valores importantes:\n",
        "* El valor de los parámetros del modelo después del entrenamiento\n",
        "* La lista de *epochs* llevados a cabo\n",
        "* Un diccionario con el error producido en cada *epoch* en el conjunto de datos de entreanamiento y validación"
      ]
    },
    {
      "cell_type": "code",
      "execution_count": 34,
      "metadata": {
        "colab": {
          "base_uri": "https://localhost:8080/",
          "height": 446
        },
        "id": "AppZB92Ft8tk",
        "outputId": "44e8b853-2661-42e7-eba2-80157c11caaf"
      },
      "outputs": [
        {
          "output_type": "display_data",
          "data": {
            "text/plain": [
              "<Figure size 720x504 with 1 Axes>"
            ],
            "image/png": "[encoded data removed]"
          },
          "metadata": {
            "needs_background": "light"
          }
        }
      ],
      "source": [
        "import pandas as pd\n",
        "import matplotlib.pyplot as plt\n",
        "\n",
        "pd.DataFrame(history.history).plot(figsize=(10, 7))\n",
        "plt.grid(True)\n",
        "plt.gca().set_ylim(0, 1.2)\n",
        "plt.xlabel(\"epochs\")\n",
        "plt.show()"
      ]
    },
    {
      "cell_type": "markdown",
      "metadata": {
        "id": "dm0QpRC8t8tk"
      },
      "source": [
        "Debido a que en la gráfica anterior se observa que el error en el conjunto de datos y de validación sigue disminuyendo, podemos continuar entrenando el algoritmo invocando de nuevo el método *fit()*. Keras continuará el entrenamiento en el punto en el que lo dejó."
      ]
    },
    {
      "cell_type": "markdown",
      "metadata": {
        "id": "efq7NjmZt8tm"
      },
      "source": [
        "## 6. Validación con el conjunto de datos de pruebas"
      ]
    },
    {
      "cell_type": "code",
      "execution_count": 35,
      "metadata": {
        "colab": {
          "base_uri": "https://localhost:8080/"
        },
        "id": "fS8GeFPvt8tm",
        "outputId": "58663502-72f0-4cd2-cf91-4c57e60bbfd6"
      },
      "outputs": [
        {
          "output_type": "stream",
          "name": "stdout",
          "text": [
            "157/157 [==============================] - 0s 3ms/step - loss: 0.0786 - accuracy: 0.9760 - precision: 0.9800\n"
          ]
        }
      ],
      "source": [
        "test_loss, test_acc, test_prec = network.evaluate(X_test_prep, y_test_prep)"
      ]
    },
    {
      "cell_type": "code",
      "execution_count": 36,
      "metadata": {
        "colab": {
          "base_uri": "https://localhost:8080/"
        },
        "id": "Bv_k5jiwt8tn",
        "outputId": "8e291535-e2a2-4290-a7b1-4bf6cd2a8fa7"
      },
      "outputs": [
        {
          "output_type": "stream",
          "name": "stdout",
          "text": [
            "test_acc: 0.9760000109672546\n",
            "test_prec: 0.9800443649291992\n"
          ]
        }
      ],
      "source": [
        "print('test_acc:', test_acc)\n",
        "print('test_prec:', test_prec)"
      ]
    },
    {
      "cell_type": "markdown",
      "metadata": {
        "id": "1gJ3qRT6t8tn"
      },
      "source": [
        "## 7. Predicción de nuevos ejemplos (Modelo en produccion)"
      ]
    },
    {
      "cell_type": "code",
      "execution_count": 58,
      "metadata": {
        "id": "y3ax-VU0t8tn"
      },
      "outputs": [],
      "source": [
        "# Suponemos que X_new es un nuevo ejemplo que el algoritmo no ha visto nunca\n",
        "X_new = X_test[17]"
      ]
    },
    {
      "cell_type": "code",
      "execution_count": 59,
      "metadata": {
        "colab": {
          "base_uri": "https://localhost:8080/",
          "height": 265
        },
        "id": "K6-eYvJut8to",
        "outputId": "cff75131-23a0-4897-c688-3190786b7f64"
      },
      "outputs": [
        {
          "output_type": "display_data",
          "data": {
            "text/plain": [
              "<Figure size 432x288 with 1 Axes>"
            ],
            "image/png": "[encoded data removed]"
          },
          "metadata": {
            "needs_background": "light"
          }
        }
      ],
      "source": [
        "# Representación gráfica del nuevo ejemplo que queremos predecir\n",
        "plt.imshow(np.reshape(X_new, (28,28)), cmap=plt.cm.gray)\n",
        "plt.show()"
      ]
    },
    {
      "cell_type": "code",
      "execution_count": 60,
      "metadata": {
        "id": "Bx2EmAk8t8to"
      },
      "outputs": [],
      "source": [
        "# Preprocesamos la nueva imagen que queremos predecir\n",
        "X_new_prep = X_new.reshape((1, 28*28))\n",
        "X_new_prep = X_new_prep.astype('float32') / 255"
      ]
    },
    {
      "cell_type": "code",
      "execution_count": 61,
      "metadata": {
        "id": "BA0LEBc5t8tp"
      },
      "outputs": [],
      "source": [
        "# Relizamos la prediccion\n",
        "y_proba = network.predict(X_new_prep)"
      ]
    },
    {
      "cell_type": "code",
      "execution_count": 62,
      "metadata": {
        "colab": {
          "base_uri": "https://localhost:8080/"
        },
        "id": "PRxjqtV-t8tp",
        "outputId": "8c5e5d4a-8001-4fc4-e3ba-f31375f63716"
      },
      "outputs": [
        {
          "output_type": "execute_result",
          "data": {
            "text/plain": [
              "array([[1.33642725e-05, 1.40355614e-05, 9.33701754e-01, 1.46939885e-02,\n",
              "        2.04502406e-08, 6.28357810e-08, 7.95918311e-07, 4.88202786e-05,\n",
              "        5.15209213e-02, 6.25579241e-06]], dtype=float32)"
            ]
          },
          "metadata": {},
          "execution_count": 62
        }
      ],
      "source": [
        "y_proba"
      ]
    },
    {
      "cell_type": "code",
      "execution_count": 63,
      "metadata": {
        "colab": {
          "base_uri": "https://localhost:8080/"
        },
        "id": "ZcvRI24At8tp",
        "outputId": "5745eb9a-c96a-4a54-f8fe-9254424871e2"
      },
      "outputs": [
        {
          "output_type": "execute_result",
          "data": {
            "text/plain": [
              "array([[0.  , 0.  , 0.93, 0.01, 0.  , 0.  , 0.  , 0.  , 0.05, 0.  ]],\n",
              "      dtype=float32)"
            ]
          },
          "metadata": {},
          "execution_count": 63
        }
      ],
      "source": [
        "y_proba.round(2)"
      ]
    },
    {
      "cell_type": "code",
      "execution_count": 64,
      "metadata": {
        "colab": {
          "base_uri": "https://localhost:8080/"
        },
        "id": "KN1w9NU9t8tp",
        "outputId": "0a7e636f-7a16-4b90-b2c6-7b5c02ab39d1"
      },
      "outputs": [
        {
          "output_type": "execute_result",
          "data": {
            "text/plain": [
              "array([2])"
            ]
          },
          "metadata": {},
          "execution_count": 64
        }
      ],
      "source": [
        "# Realizamos la prediccion obteniendo una clase en lugar de una probabilidad\n",
        "np.argmax(network.predict(X_new_prep), axis=-1)"
      ]
    },
    {
      "cell_type": "markdown",
      "metadata": {
        "id": "iGuED_ETt8tq"
      },
      "source": [
        "Es importante saber que el método tradicional *predict_classes* va a ser deprecado proximamente"
      ]
    },
    {
      "cell_type": "markdown",
      "metadata": {
        "id": "g8g7Ol9ct8tq"
      },
      "source": [
        "## 8. Guardar el modelo en disco : EXPORTAR MODELO"
      ]
    },
    {
      "cell_type": "markdown",
      "metadata": {
        "id": "8kKKPJKvt8tq"
      },
      "source": [
        "Con Keras generamos la arquitectura de la red neuronal, la entrenamos y después la evaluamos. Existen diferentes alternativas a la hora de exportar el modelo entrenado (https://keras.io/getting_started/faq/#what-are-my-options-for-saving-models), en este caso se expone una de las más utilizadas.\n",
        "\n",
        "De la forma que se indica a continuación, vamos a exportar en un fichero los siguientes componentes de la red neuronal: \n",
        "* La arquitectura del modelo\n",
        "* Los parámetros del modelo\n",
        "* Los hiperparámetros del modelo\n",
        "* Las métricas"
      ]
    },
    {
      "cell_type": "code",
      "execution_count": 71,
      "metadata": {
        "id": "9roeqpGpt8tr"
      },
      "outputs": [],
      "source": [
        "# Guardamos el modelo en disco (no se donde queda)\n",
        "network.save(\"modelo_mnist\")"
      ]
    },
    {
      "cell_type": "markdown",
      "metadata": {
        "id": "Ko8oL3sQt8tr"
      },
      "source": [
        "Una vez ejecutada la celda anterior, generará un fichero *modelo_mnist* que puede utilizarse para transportarlo a otro sistema y predecir con nuevos ejemplos. La forma en la que puedes importar este fichero para predecir con nuevos ejemplos es la siguiente:"
      ]
    },
    {
      "cell_type": "code",
      "execution_count": 73,
      "metadata": {
        "id": "MfuoonbYt8tr"
      },
      "outputs": [],
      "source": [
        "# Importamos las librerias necesarias\n",
        "from tensorflow.keras.models import load_model\n",
        " \n",
        "# Cargamos el modelo de disco\n",
        "mnist_model = load_model(\"modelo_mnist\")\n",
        " \n",
        "# Realizamos una nueva prediccion\n",
        "y_pred = np.argmax(mnist_model.predict(X_new_prep), axis=-1)"
      ]
    },
    {
      "cell_type": "code",
      "execution_count": 74,
      "metadata": {
        "colab": {
          "base_uri": "https://localhost:8080/"
        },
        "id": "h1YXVInOt8ts",
        "outputId": "c25cd6e5-058d-4553-f845-5df3586be9c8"
      },
      "outputs": [
        {
          "output_type": "execute_result",
          "data": {
            "text/plain": [
              "array([2])"
            ]
          },
          "metadata": {},
          "execution_count": 74
        }
      ],
      "source": [
        "y_pred"
      ]
    }
  ],
  "metadata": {
    "kernelspec": {
      "display_name": "Python 3.8.13 ('deepl')",
      "language": "python",
      "name": "python3"
    },
    "language_info": {
      "codemirror_mode": {
        "name": "ipython",
        "version": 3
      },
      "file_extension": ".py",
      "mimetype": "text/x-python",
      "name": "python",
      "nbconvert_exporter": "python",
      "pygments_lexer": "ipython3",
      "version": "3.8.13"
    },
    "vscode": {
      "interpreter": {
        "hash": "d53835c00cd19ad4a628421f54ae6926294e4cce8facaf7353a7e389be23d06a"
      }
    },
    "colab": {
      "provenance": [],
      "collapsed_sections": []
    },
    "accelerator": "GPU",
    "gpuClass": "standard"
  },
  "nbformat": 4,
  "nbformat_minor": 0
}